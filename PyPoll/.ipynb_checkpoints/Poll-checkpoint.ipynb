{
 "cells": [
  {
   "cell_type": "code",
   "execution_count": 4,
   "metadata": {},
   "outputs": [],
   "source": [
    "import csv \n",
    "import numpy as np"
   ]
  },
  {
   "cell_type": "code",
   "execution_count": 5,
   "metadata": {},
   "outputs": [
    {
     "name": "stdout",
     "output_type": "stream",
     "text": [
      "Resources/election_data.csv\n"
     ]
    }
   ],
   "source": [
    "csvpath = r\"Resources/election_data.csv\"\n",
    "print(csvpath)"
   ]
  },
  {
   "cell_type": "code",
   "execution_count": 17,
   "metadata": {},
   "outputs": [
    {
     "data": {
      "text/plain": [
       "105630"
      ]
     },
     "execution_count": 17,
     "metadata": {},
     "output_type": "execute_result"
    }
   ],
   "source": [
    "totalVotes = 0\n",
    "Candidates = []\n",
    "Khan = 0\n",
    "Correy = 0\n",
    "Li = 0\n",
    "OTooley = 0\n",
    "\n",
    "with open(csvpath, \"r\") as csvfile:\n",
    "    csvreader = csv.reader(csvfile, delimiter=',')\n",
    "\n",
    "    # Read the header row first (skip this step if there is no header)\n",
    "    csv_header = next(csvreader)\n",
    "    \n",
    "    # Read each row of data after the header\n",
    "    for row in csvreader:\n",
    "        \n",
    "        totalVotes += 1 \n",
    "        \n",
    "        candidate = row[2]\n",
    "        if candidate not in Candidates:\n",
    "            Candidates.append(candidate)\n",
    "        \n",
    "        if row[2] == 'Khan':\n",
    "            Khan += 1\n",
    "        elif row[2] == 'Correy':\n",
    "            Correy += 1 \n",
    "        elif row[2] == 'Li':\n",
    "            Li += 1 \n",
    "        else: \n",
    "            OTooley += 1 "
   ]
  },
  {
   "cell_type": "code",
   "execution_count": 22,
   "metadata": {},
   "outputs": [
    {
     "data": {
      "text/plain": [
       "63.0"
      ]
     },
     "execution_count": 22,
     "metadata": {},
     "output_type": "execute_result"
    }
   ],
   "source": [
    "Khanpercent = Khan/totalVotes\n",
    "Khanpercentrounded = round(Khanpercent, 2)\n",
    "finalKhan = Khanpercentrounded * 100\n",
    "finalKhan"
   ]
  },
  {
   "cell_type": "code",
   "execution_count": 23,
   "metadata": {},
   "outputs": [
    {
     "data": {
      "text/plain": [
       "20.0"
      ]
     },
     "execution_count": 23,
     "metadata": {},
     "output_type": "execute_result"
    }
   ],
   "source": [
    "Correyper = Correy/totalVotes\n",
    "Correyround = round(Correyper, 2)\n",
    "finalCor = Correyround * 100\n",
    "finalCor"
   ]
  },
  {
   "cell_type": "code",
   "execution_count": 24,
   "metadata": {},
   "outputs": [
    {
     "data": {
      "text/plain": [
       "3.0"
      ]
     },
     "execution_count": 24,
     "metadata": {},
     "output_type": "execute_result"
    }
   ],
   "source": [
    "Otoo = round((OTooley/totalVotes * 100),2)\n",
    "Otoo"
   ]
  },
  {
   "cell_type": "code",
   "execution_count": 25,
   "metadata": {},
   "outputs": [
    {
     "data": {
      "text/plain": [
       "14.0"
      ]
     },
     "execution_count": 25,
     "metadata": {},
     "output_type": "execute_result"
    }
   ],
   "source": [
    "Lilast = round((Li/totalVotes * 100),2)\n",
    "Lilast"
   ]
  },
  {
   "cell_type": "code",
   "execution_count": 26,
   "metadata": {},
   "outputs": [],
   "source": [
    "summaryString = f\"\"\"Election Results\n",
    "-------------------------\n",
    "Total Votes: {totalVotes} \n",
    "Khan: {finalKhan}% (${Khan})\n",
    "Correy: {finalCor}% ({Correy})\n",
    "Li: {Lilast} (${Li})\n",
    "O'Tooley: {Otoo}% ({OTooley})\n",
    "\"\"\"\n",
    "with open(\"vote_results.txt\", \"w\") as file1:\n",
    "    file1.write(summaryString)\n"
   ]
  },
  {
   "cell_type": "code",
   "execution_count": null,
   "metadata": {},
   "outputs": [],
   "source": []
  }
 ],
 "metadata": {
  "kernelspec": {
   "display_name": "Python 3",
   "language": "python",
   "name": "python3"
  },
  "language_info": {
   "codemirror_mode": {
    "name": "ipython",
    "version": 3
   },
   "file_extension": ".py",
   "mimetype": "text/x-python",
   "name": "python",
   "nbconvert_exporter": "python",
   "pygments_lexer": "ipython3",
   "version": "3.8.3"
  }
 },
 "nbformat": 4,
 "nbformat_minor": 4
}
