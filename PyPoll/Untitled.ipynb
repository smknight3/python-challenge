{
 "cells": [
  {
   "cell_type": "code",
   "execution_count": 1,
   "metadata": {},
   "outputs": [],
   "source": [
    "import csv \n",
    "import numpy as np"
   ]
  },
  {
   "cell_type": "code",
   "execution_count": 2,
   "metadata": {},
   "outputs": [
    {
     "name": "stdout",
     "output_type": "stream",
     "text": [
      "Resources/election_data.csv\n"
     ]
    }
   ],
   "source": [
    "csvpath = r\"Resources/election_data.csv\"\n",
    "print(csvpath)"
   ]
  },
  {
   "cell_type": "code",
   "execution_count": null,
   "metadata": {},
   "outputs": [],
   "source": [
    "totalVotes = 0\n",
    "totalProfit = 0\n",
    "isFirstRow = True\n",
    "lastRowProfit = 0\n",
    "changeDict = {}\n",
    "\n",
    "with open(csvpath, \"r\") as csvfile:\n",
    "    csvreader = csv.reader(csvfile, delimiter=',')\n",
    "\n",
    "    # Read the header row first (skip this step if there is no header)\n",
    "    csv_header = next(csvreader)\n",
    "\n",
    "    #add new column headers and append to master\n",
    "\n",
    "    # Read each row of data after the header\n",
    "    for row in csvreader:\n",
    "\n",
    "        totalMonths += 1\n",
    "        totalProfit += int(row[1])\n",
    "\n",
    "        if isFirstRow:\n",
    "            lastRowProfit = int(row[1])\n",
    "            isFirstRow = False\n",
    "        else:\n",
    "            change = int(row[1]) - lastRowProfit\n",
    "            changeDict[row[0]] = change\n",
    "            lastRowProfit = int(row[1])\n",
    "\n",
    "\n",
    "averageChange = np.mean(list(changeDict.values()))\n",
    "\n",
    "maxChangeMonth = max(changeDict, key=changeDict.get)\n",
    "maxChangeValue = changeDict[maxChangeMonth]\n",
    "\n",
    "minChangeMonth = min(changeDict, key=changeDict.get)\n",
    "minChangeValue = changeDict[minChangeMonth]\n",
    "\n",
    "summaryString = f\"\"\"Finanical Analysis\n",
    "-------------------------\n",
    "Total Months: {totalMonths}\n",
    "Total: ${totalProfit}\n",
    "Average Change: ${round(averageChange, 2)}\n",
    "Greatest Increase in Profits: {maxChangeMonth} (${maxChangeValue})\n",
    "Greatest Decrease in Profits: {minChangeMonth} (${minChangeValue})\n",
    "\"\"\"\n",
    "with open(\"bank_results.txt\", \"w\") as file1:\n",
    "    file1.write(summaryString)\n"
   ]
  }
 ],
 "metadata": {
  "kernelspec": {
   "display_name": "Python 3",
   "language": "python",
   "name": "python3"
  },
  "language_info": {
   "codemirror_mode": {
    "name": "ipython",
    "version": 3
   },
   "file_extension": ".py",
   "mimetype": "text/x-python",
   "name": "python",
   "nbconvert_exporter": "python",
   "pygments_lexer": "ipython3",
   "version": "3.8.3"
  }
 },
 "nbformat": 4,
 "nbformat_minor": 4
}
