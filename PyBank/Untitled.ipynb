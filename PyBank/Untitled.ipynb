{
 "cells": [
  {
   "cell_type": "code",
   "execution_count": 1,
   "metadata": {},
   "outputs": [],
   "source": [
    "import csv \n",
    "import numpy as np"
   ]
  },
  {
   "cell_type": "code",
   "execution_count": 9,
   "metadata": {},
   "outputs": [
    {
     "name": "stdout",
     "output_type": "stream",
     "text": [
      "PyBank\\Resources\\budget_data.csv\n"
     ]
    }
   ],
   "source": [
    "csvpath = r\"PyBank\\Resources\\budget_data.csv\"\n",
    "print(csvpath)\n"
   ]
  },
  {
   "cell_type": "code",
   "execution_count": 10,
   "metadata": {},
   "outputs": [
    {
     "ename": "FileNotFoundError",
     "evalue": "[Errno 2] No such file or directory: 'PyBank\\\\Resources\\\\budget_data.csv'",
     "output_type": "error",
     "traceback": [
      "\u001b[0;31m---------------------------------------------------------------------------\u001b[0m",
      "\u001b[0;31mFileNotFoundError\u001b[0m                         Traceback (most recent call last)",
      "\u001b[0;32m<ipython-input-10-c2b157bb0baf>\u001b[0m in \u001b[0;36m<module>\u001b[0;34m\u001b[0m\n\u001b[1;32m      1\u001b[0m \u001b[0mmaster\u001b[0m \u001b[0;34m=\u001b[0m \u001b[0;34m[\u001b[0m\u001b[0;34m]\u001b[0m\u001b[0;34m\u001b[0m\u001b[0;34m\u001b[0m\u001b[0m\n\u001b[1;32m      2\u001b[0m \u001b[0;34m\u001b[0m\u001b[0m\n\u001b[0;32m----> 3\u001b[0;31m \u001b[0;32mwith\u001b[0m \u001b[0mopen\u001b[0m\u001b[0;34m(\u001b[0m\u001b[0mcsvpath\u001b[0m\u001b[0;34m,\u001b[0m \u001b[0;34m\"r\"\u001b[0m\u001b[0;34m)\u001b[0m \u001b[0;32mas\u001b[0m \u001b[0mcsvfile\u001b[0m\u001b[0;34m:\u001b[0m\u001b[0;34m\u001b[0m\u001b[0;34m\u001b[0m\u001b[0m\n\u001b[0m\u001b[1;32m      4\u001b[0m     \u001b[0mcsvreader\u001b[0m \u001b[0;34m=\u001b[0m \u001b[0mcsv\u001b[0m\u001b[0;34m.\u001b[0m\u001b[0mreader\u001b[0m\u001b[0;34m(\u001b[0m\u001b[0mcsvfile\u001b[0m\u001b[0;34m,\u001b[0m \u001b[0mdelimiter\u001b[0m\u001b[0;34m=\u001b[0m\u001b[0;34m','\u001b[0m\u001b[0;34m)\u001b[0m\u001b[0;34m\u001b[0m\u001b[0;34m\u001b[0m\u001b[0m\n\u001b[1;32m      5\u001b[0m \u001b[0;34m\u001b[0m\u001b[0m\n",
      "\u001b[0;31mFileNotFoundError\u001b[0m: [Errno 2] No such file or directory: 'PyBank\\\\Resources\\\\budget_data.csv'"
     ]
    }
   ],
   "source": [
    "master = []\n",
    "\n",
    "with open(csvpath, \"r\") as csvfile:\n",
    "    csvreader = csv.reader(csvfile, delimiter=',')\n",
    "\n",
    "    # Read the header row first (skip this step if there is no header)\n",
    "    csv_header = next(csvreader)\n",
    "    print(f\"CSV Header: {csv_header}\")\n",
    "\n",
    "#     #add new column headers and append to master\n",
    "#     csv_header.extend([\"Date%\", \"Profit/Losses%\"])\n",
    "#     master.append(csv_header)\n",
    "\n",
    "#     # Read each row of data after the header\n",
    "#     for row in csvreader:\n",
    "#         # print(row)\n",
    "\n",
    "#         #row[0] = wrestler\n",
    "#         #row[1] = wins\n",
    "#         #row[2] = losses\n",
    "#         #row[3] = draws\n",
    "\n",
    "#         winPercent = int(row[1]) / (int(row[1]) + int(row[2]) + int(row[3]))\n",
    "#         lossPercent = int(row[2]) / (int(row[1]) + int(row[2]) + int(row[3]))\n",
    "#         drawPercent = int(row[3]) / (int(row[1]) + int(row[2]) + int(row[3]))\n",
    "\n",
    "#         # print(f\"{row[0]} had a Win% of {winPercent}, a Loss% of {lossPercent}, and a Draw% of {drawPercent}\")\n",
    "#         row.extend([winPercent, lossPercent, drawPercent])\n",
    "#         master.append(row)\n",
    "\n",
    "# print(master)\n",
    "\n",
    "# #write everything out\n",
    "# output_path = r\"08-Par_WrestlingWithFunctions\\wrestler_percents.csv\"\n",
    "\n",
    "# # Open the file using \"write\" mode. Specify the variable to hold the contents\n",
    "# with open(output_path, 'w', newline='') as csvfile:\n",
    "#     # Initialize csv.writer\n",
    "#     csvwriter = csv.writer(csvfile, delimiter=',')\n",
    "#     #write all rows in a loop\n",
    "#     for row in master:\n",
    "#         csvwriter.writerow(row)\n"
   ]
  },
  {
   "cell_type": "code",
   "execution_count": null,
   "metadata": {},
   "outputs": [],
   "source": []
  }
 ],
 "metadata": {
  "kernelspec": {
   "display_name": "Python 3",
   "language": "python",
   "name": "python3"
  },
  "language_info": {
   "codemirror_mode": {
    "name": "ipython",
    "version": 3
   },
   "file_extension": ".py",
   "mimetype": "text/x-python",
   "name": "python",
   "nbconvert_exporter": "python",
   "pygments_lexer": "ipython3",
   "version": "3.8.3"
  }
 },
 "nbformat": 4,
 "nbformat_minor": 4
}
